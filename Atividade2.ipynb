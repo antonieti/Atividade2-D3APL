{
 "cells": [
  {
   "cell_type": "markdown",
   "id": "eb4d392d",
   "metadata": {},
   "source": [
    "# Trabalho 2 da disciplina de APL\n",
    "Integrantes do grupo:\n",
    "* Daniel Brai Gonzales Marcos\n",
    "* Giovanna Nascimento Antonieti\n",
    "* Priscila Marques de Oliveira"
   ]
  },
  {
   "cell_type": "code",
   "execution_count": 1,
   "id": "8f804378",
   "metadata": {},
   "outputs": [],
   "source": [
    "# imports"
   ]
  },
  {
   "cell_type": "markdown",
   "id": "a1ab731b",
   "metadata": {},
   "source": [
    "# 1. Dataset \n",
    "* Load\n",
    "* Labels\n",
    "* Pré-processamento "
   ]
  },
  {
   "cell_type": "code",
   "execution_count": null,
   "id": "21371eb7",
   "metadata": {},
   "outputs": [],
   "source": []
  },
  {
   "cell_type": "markdown",
   "id": "9d578eed",
   "metadata": {},
   "source": [
    "# 2. Modelos"
   ]
  },
  {
   "cell_type": "markdown",
   "id": "285e2aa3",
   "metadata": {},
   "source": [
    "## 2.1 Criação dos modelos"
   ]
  },
  {
   "cell_type": "code",
   "execution_count": null,
   "id": "7b363452",
   "metadata": {},
   "outputs": [],
   "source": []
  },
  {
   "cell_type": "markdown",
   "id": "12c491aa",
   "metadata": {},
   "source": [
    "## 2.2 Fine tuning"
   ]
  },
  {
   "cell_type": "code",
   "execution_count": null,
   "id": "651e0a41",
   "metadata": {},
   "outputs": [],
   "source": []
  },
  {
   "cell_type": "markdown",
   "id": "87480b88",
   "metadata": {},
   "source": [
    "# 3. Validação"
   ]
  },
  {
   "cell_type": "code",
   "execution_count": null,
   "id": "9f789578",
   "metadata": {},
   "outputs": [],
   "source": []
  }
 ],
 "metadata": {
  "kernelspec": {
   "display_name": "Python 3 (ipykernel)",
   "language": "python",
   "name": "python3"
  },
  "language_info": {
   "codemirror_mode": {
    "name": "ipython",
    "version": 3
   },
   "file_extension": ".py",
   "mimetype": "text/x-python",
   "name": "python",
   "nbconvert_exporter": "python",
   "pygments_lexer": "ipython3",
   "version": "3.9.12"
  }
 },
 "nbformat": 4,
 "nbformat_minor": 5
}
